{
 "cells": [
  {
   "cell_type": "code",
   "execution_count": 1,
   "metadata": {},
   "outputs": [
    {
     "data": {
      "text/plain": [
       "True"
      ]
     },
     "execution_count": 1,
     "metadata": {},
     "output_type": "execute_result"
    }
   ],
   "source": [
    "import os\n",
    "import warnings\n",
    "from dotenv import load_dotenv\n",
    "\n",
    "os.environ['KMP_DUPLICATE_LIB_OK'] = 'True'\n",
    "warnings.filterwarnings(\"ignore\")\n",
    "\n",
    "load_dotenv()"
   ]
  },
  {
   "cell_type": "markdown",
   "metadata": {},
   "source": [
    "### Doc Loader"
   ]
  },
  {
   "cell_type": "code",
   "execution_count": 2,
   "metadata": {},
   "outputs": [],
   "source": [
    "from langchain_community.document_loaders import PyMuPDFLoader\n",
    "\n",
    "file_path = \"./data/gym/1_Analysis_of_Actual_Fitness_Supplement.pdf\"\n",
    "loader = PyMuPDFLoader(file_path)\n",
    "\n",
    "docs = loader.load()"
   ]
  },
  {
   "cell_type": "code",
   "execution_count": 3,
   "metadata": {},
   "outputs": [],
   "source": [
    "doc = docs[0]\n",
    "# print(doc.page_content)"
   ]
  },
  {
   "cell_type": "code",
   "execution_count": 4,
   "metadata": {},
   "outputs": [],
   "source": [
    "import os\n",
    "\n",
    "pdfs = []\n",
    "for root, dirs, files in os.walk('data'):\n",
    "    # print(root, dirs, files)\n",
    "    for file in files:\n",
    "        if file.endswith('.pdf'):\n",
    "            pdfs.append(os.path.join(root, file))"
   ]
  },
  {
   "cell_type": "code",
   "execution_count": 5,
   "metadata": {},
   "outputs": [],
   "source": [
    "docs = []\n",
    "for pdf in pdfs:\n",
    "    loader = PyMuPDFLoader(pdf)\n",
    "    pages = loader.load()\n",
    "\n",
    "    docs.extend(pages)\n"
   ]
  },
  {
   "cell_type": "markdown",
   "metadata": {},
   "source": [
    "### Document Chunking"
   ]
  },
  {
   "cell_type": "code",
   "execution_count": 6,
   "metadata": {},
   "outputs": [],
   "source": [
    "from langchain_text_splitters import RecursiveCharacterTextSplitter\n",
    "\n",
    "text_splitter = RecursiveCharacterTextSplitter(\n",
    "    chunk_size=1000,\n",
    "    chunk_overlap=100,\n",
    ")\n",
    "\n",
    "chunks = text_splitter.split_documents(docs)"
   ]
  },
  {
   "cell_type": "code",
   "execution_count": 7,
   "metadata": {},
   "outputs": [
    {
     "data": {
      "text/plain": [
       "(32, 152)"
      ]
     },
     "execution_count": 7,
     "metadata": {},
     "output_type": "execute_result"
    }
   ],
   "source": [
    "len(docs), len(chunks)"
   ]
  },
  {
   "cell_type": "code",
   "execution_count": 8,
   "metadata": {},
   "outputs": [
    {
     "data": {
      "text/plain": [
       "(4490, 946)"
      ]
     },
     "execution_count": 8,
     "metadata": {},
     "output_type": "execute_result"
    }
   ],
   "source": [
    "len(docs[0].page_content), len(chunks[0].page_content)"
   ]
  },
  {
   "cell_type": "code",
   "execution_count": 11,
   "metadata": {},
   "outputs": [
    {
     "data": {
      "text/plain": [
       "(1016, 271)"
      ]
     },
     "execution_count": 11,
     "metadata": {},
     "output_type": "execute_result"
    }
   ],
   "source": [
    "import tiktoken\n",
    "\n",
    "encoding = tiktoken.encoding_for_model(\"gpt-4o-mini\")\n",
    "\n",
    "len(encoding.encode(docs[0].page_content)), len(encoding.encode(chunks[0].page_content))"
   ]
  },
  {
   "cell_type": "markdown",
   "metadata": {},
   "source": [
    "### Embedding"
   ]
  },
  {
   "cell_type": "code",
   "execution_count": 12,
   "metadata": {},
   "outputs": [],
   "source": [
    "from langchain_ollama import OllamaEmbeddings\n",
    "import faiss\n",
    "from langchain_community.vectorstores import FAISS\n",
    "from langchain_community.docstore.in_memory import InMemoryDocstore\n"
   ]
  },
  {
   "cell_type": "code",
   "execution_count": 13,
   "metadata": {},
   "outputs": [],
   "source": [
    "embeddings = OllamaEmbeddings(model=\"nomic-embed-text\", base_url=\"http://localhost:11434\")\n",
    "\n",
    "single_vector = embeddings.embed_query(\"This is text\")"
   ]
  },
  {
   "cell_type": "code",
   "execution_count": 14,
   "metadata": {},
   "outputs": [
    {
     "data": {
      "text/plain": [
       "(0, 768)"
      ]
     },
     "execution_count": 14,
     "metadata": {},
     "output_type": "execute_result"
    }
   ],
   "source": [
    "index = faiss.IndexFlatL2(len(single_vector))\n",
    "index.ntotal, index.d"
   ]
  },
  {
   "cell_type": "code",
   "execution_count": 15,
   "metadata": {},
   "outputs": [],
   "source": [
    "vector_store = FAISS(\n",
    "    embedding_function=embeddings,\n",
    "    index=index,\n",
    "    docstore=InMemoryDocstore(),\n",
    "    index_to_docstore_id={}\n",
    ")"
   ]
  },
  {
   "cell_type": "code",
   "execution_count": 16,
   "metadata": {},
   "outputs": [],
   "source": [
    "# help(vector_store)"
   ]
  },
  {
   "cell_type": "code",
   "execution_count": 17,
   "metadata": {},
   "outputs": [],
   "source": [
    "ids = vector_store.add_documents(documents=chunks)"
   ]
  },
  {
   "cell_type": "code",
   "execution_count": 18,
   "metadata": {},
   "outputs": [
    {
     "data": {
      "text/plain": [
       "152"
      ]
     },
     "execution_count": 18,
     "metadata": {},
     "output_type": "execute_result"
    }
   ],
   "source": [
    "vector_store.index_to_docstore_id\n",
    "len(ids)"
   ]
  },
  {
   "cell_type": "code",
   "execution_count": null,
   "metadata": {},
   "outputs": [],
   "source": [
    "# #store vector database\n",
    "# db_name = \"data_vector\"\n",
    "# vector_store.save_local(db_name)\n",
    "\n",
    "# # Load vector database\n",
    "# new_vector_store = FAISS.load_local(db_name, embeddings=embeddings, allow_dangerous_deserialization=True)\n",
    "# len(new_vector_store.index_to_docstore_id)"
   ]
  },
  {
   "cell_type": "code",
   "execution_count": null,
   "metadata": {},
   "outputs": [
    {
     "data": {
      "text/plain": [
       "152"
      ]
     },
     "execution_count": 27,
     "metadata": {},
     "output_type": "execute_result"
    }
   ],
   "source": []
  },
  {
   "cell_type": "markdown",
   "metadata": {},
   "source": [
    "### Retrieval"
   ]
  },
  {
   "cell_type": "code",
   "execution_count": 19,
   "metadata": {},
   "outputs": [
    {
     "name": "stdout",
     "output_type": "stream",
     "text": [
      "efficacy influences exercise behavior by boosting confidence in athletic abilities. Higher\n",
      "exercise self-efficacy contributes to a more enjoyable and enduring engagement in physical\n",
      "activity, fostering a lifelong habit of sports. This has also verified the results of Gacek [56],\n",
      "which revealed that individuals with higher self-efficacy engaged in behaviors that promote\n",
      "health and enhance physical fitness, and they engaged less in behaviors that are detrimental\n",
      "to their health, such as drinking alcoholic beverages.\n",
      "The results revealed that controlled precursors have a significant effect toward be-\n",
      "havioral intention (β: 0.272; p < 0.001), which based on the indicators, were voluntary\n",
      "evaluation of the benefits of the supplements, matching their consumption with proper\n",
      "diet and exercise, recognizing their usefulness, and acknowledging the value of a healthy\n",
      "lifestyle affect consumers’ intent to engage in activities that are aligned with fitness. This\n",
      "\n",
      "\n",
      "\n",
      "to consume fitness supplements. Additionally, the HBM sheds light on perceived effectiveness,\n",
      "benefits, barriers, and health motivation related to supplement consumption. Integrating the TEMPA\n",
      "framework further investigated the role of effort minimization in physical activity contexts. Through\n",
      "an online questionnaire, data were collected from a sample of 250 fitness supplement-consuming\n",
      "respondents. SEM analysis revealed significant associations between behavioral intentions and\n",
      "attitudes, perceived behavioral control, health motivation, and controlled precursors. However, it\n",
      "was seen that subjective norms, perceived effectiveness, perceived benefits, and automatic precursors\n",
      "were deemed insignificant. The findings contribute to a comprehensive understanding of the factors\n",
      "shaping actual consumption behaviors, offering valuable implications for marketers, health profes-\n",
      "sionals, and policymakers seeking to promote informed and responsible supplement use among\n",
      "\n",
      "\n",
      "\n",
      "lifestyle affect consumers’ intent to engage in activities that are aligned with fitness. This\n",
      "implies that controlled precursors prompt their intention to consume supplements suggest-\n",
      "ing that the precursors outweigh the impact of opposing processes that promote minimal\n",
      "effort [28]. Moreover, controlled precursors are classified as advanced cognitive func-\n",
      "tions, including reflective reasoning, that play a significant role in the decision-making\n",
      "process [80]. This indicates that respondents evaluate activities based on the outcomes that\n",
      "come with performing the activity. This is evident in the study by Jagim et al. [81], which\n",
      "found that individuals consume pre-workout, which generally contained beta-alanine,\n",
      "caffeine, and creatine, to make workouts easier and improve their performance.\n",
      "Automatic precursors were observed to have an insignificant effect on behavioral\n",
      "intention (β: 0.107; p = 0.206). These results suggest that the involuntary cues have little\n",
      "\n",
      "\n",
      "\n",
      "effort. This explains that a person’s movements are swayed by automatic and controlled\n",
      "precursors. These precursors are triggered by the cues related to the movement, and how\n",
      "individuals feel about these cues was also said to affect the perceived effort that is needed\n",
      "to perform the movement [58]. For these precursors to be effective and drive an individual\n",
      "to engage in physical activity, the precursors supporting the intention should outweigh\n",
      "the negative precursors that reduce effort [28]. Ong et al. [24] exhibited that health and\n",
      "well-being are preceded by a person’s self-efficacy and its increase, which also increases\n",
      "their behavioral intention. Thus, the following was theorized:\n",
      "H10. Automatic precursors have a significant direct effect on behavioral intention.\n",
      "H11. Controlled precursors have a significant direct effect on behavioral intention.\n",
      "Goulet et al. [59] investigated the predictors of the use of performance-enhancing\n",
      "\n",
      "\n",
      "\n"
     ]
    }
   ],
   "source": [
    "question = \"what is used to measure the intensity of exercise?\"\n",
    "docs = vector_store.search(query=question, search_type='similarity')\n",
    "\n",
    "for doc in docs:\n",
    "    print(doc.page_content)\n",
    "    print(\"\\n\\n\")"
   ]
  },
  {
   "cell_type": "code",
   "execution_count": 20,
   "metadata": {},
   "outputs": [],
   "source": [
    "retrieval = vector_store.as_retriever(search_type=\"mmr\", search_kwargs={'k':3, 'fetch_k': 100, 'lambda_mult': 1})"
   ]
  },
  {
   "cell_type": "code",
   "execution_count": 21,
   "metadata": {},
   "outputs": [],
   "source": [
    "# docs = retrieval.invoke(question)\n",
    "# # for doc in docs:\n",
    "# #     print(doc.page_content)\n",
    "# #     print(\"\\n\\n\")\n",
    "\n",
    "# make question\n",
    "question = \"what are the benefits of BCAA supplements?\"\n",
    "docs = retrieval.invoke(question)"
   ]
  },
  {
   "cell_type": "markdown",
   "metadata": {},
   "source": [
    "### RAG with LLAMA 3.2 on OLLAMA"
   ]
  },
  {
   "cell_type": "code",
   "execution_count": 22,
   "metadata": {},
   "outputs": [],
   "source": [
    "from langchain import hub\n",
    "from langchain_core.output_parsers import StrOutputParser\n",
    "\n",
    "from langchain_core.runnables import RunnablePassthrough\n",
    "from langchain_core.prompts import ChatPromptTemplate\n",
    "\n",
    "from langchain_ollama import ChatOllama"
   ]
  },
  {
   "cell_type": "code",
   "execution_count": 23,
   "metadata": {},
   "outputs": [
    {
     "data": {
      "text/plain": [
       "AIMessage(content='How can I help you today?', additional_kwargs={}, response_metadata={'model': 'llama3.2:1b', 'created_at': '2025-04-05T12:33:45.790138644Z', 'done': True, 'done_reason': 'stop', 'total_duration': 8471670428, 'load_duration': 6203803368, 'prompt_eval_count': 26, 'prompt_eval_duration': 1215153854, 'eval_count': 8, 'eval_duration': 999306508, 'message': Message(role='assistant', content='', images=None, tool_calls=None)}, id='run-6150e669-673a-4bca-b282-ab246fb7522a-0', usage_metadata={'input_tokens': 26, 'output_tokens': 8, 'total_tokens': 34})"
      ]
     },
     "execution_count": 23,
     "metadata": {},
     "output_type": "execute_result"
    }
   ],
   "source": [
    "model = ChatOllama(\n",
    "    model=\"llama3.2:1b\",\n",
    "    base_url=\"http://127.0.0.1:11434\",\n",
    ")\n",
    "\n",
    "model.invoke(\"hi\")"
   ]
  },
  {
   "cell_type": "code",
   "execution_count": 25,
   "metadata": {},
   "outputs": [],
   "source": [
    "prompt = hub.pull(\"daethyra/rag-prompt\", include_model=True)"
   ]
  },
  {
   "cell_type": "code",
   "execution_count": 42,
   "metadata": {},
   "outputs": [],
   "source": [
    "prompt = \"\"\"\n",
    "    You are an assistant for question-answering tasks. Use the following pieces of retrieved context to answer the question. If you don't know the answer, just say that you don't know.\n",
    "    if possible answer in bullet points. Make sure your answer is reevant to the question and it is answered from the context only\n",
    "    Question: {question} \n",
    "    Context: {context} \n",
    "    Answer:\n",
    "\"\"\""
   ]
  },
  {
   "cell_type": "code",
   "execution_count": 43,
   "metadata": {},
   "outputs": [],
   "source": [
    "prompt = ChatPromptTemplate.from_template(prompt)"
   ]
  },
  {
   "cell_type": "code",
   "execution_count": 44,
   "metadata": {},
   "outputs": [],
   "source": [
    "def format_docs(docs):\n",
    "    return \"\\n\\n\".join(doc.page_content for doc in docs)\n",
    "\n",
    "# print(format_docs(docs))"
   ]
  },
  {
   "cell_type": "code",
   "execution_count": 45,
   "metadata": {},
   "outputs": [],
   "source": [
    "rag_chain = (\n",
    "    {\n",
    "        \"context\": retrieval|format_docs,\n",
    "        \"question\": RunnablePassthrough(),\n",
    "    } \n",
    "    | prompt\n",
    "    | model\n",
    "    | StrOutputParser()\n",
    ")"
   ]
  },
  {
   "cell_type": "code",
   "execution_count": 46,
   "metadata": {},
   "outputs": [],
   "source": [
    "# question = \"what are the benefits of BCAA supplements?\"\n",
    "question = \"what is used to gain muscle mass?\"\n",
    "output = rag_chain.invoke(question)"
   ]
  },
  {
   "cell_type": "code",
   "execution_count": 47,
   "metadata": {},
   "outputs": [
    {
     "name": "stdout",
     "output_type": "stream",
     "text": [
      "Here are the possible answers in bullet points:\n",
      "\n",
      "* Caffeine: reduces perceived effort, minimizes fatigue and pain, and improves endurance.\n",
      "* Creatine monohydrate: used to gain muscle mass and support performance and recovery.\n",
      "\n",
      "I don't know if creatine supplements contain other substances besides these two.\n"
     ]
    }
   ],
   "source": [
    "print(output)"
   ]
  },
  {
   "cell_type": "code",
   "execution_count": null,
   "metadata": {},
   "outputs": [],
   "source": []
  }
 ],
 "metadata": {
  "kernelspec": {
   "display_name": "Python (ragampdf)",
   "language": "python",
   "name": "ragampdf"
  },
  "language_info": {
   "codemirror_mode": {
    "name": "ipython",
    "version": 3
   },
   "file_extension": ".py",
   "mimetype": "text/x-python",
   "name": "python",
   "nbconvert_exporter": "python",
   "pygments_lexer": "ipython3",
   "version": "3.11.8"
  }
 },
 "nbformat": 4,
 "nbformat_minor": 2
}
