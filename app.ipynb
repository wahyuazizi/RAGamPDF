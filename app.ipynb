{
 "cells": [
  {
   "cell_type": "code",
   "execution_count": 1,
   "metadata": {},
   "outputs": [
    {
     "data": {
      "text/plain": [
       "True"
      ]
     },
     "execution_count": 1,
     "metadata": {},
     "output_type": "execute_result"
    }
   ],
   "source": [
    "import os\n",
    "import warnings\n",
    "from dotenv import load_dotenv\n",
    "\n",
    "os.environ['KMP_DUPLICATE_LIB_OK'] = 'True'\n",
    "warnings.filterwarnings(\"ignore\")\n",
    "\n",
    "load_dotenv()"
   ]
  },
  {
   "cell_type": "markdown",
   "metadata": {},
   "source": [
    "### Doc Loader"
   ]
  },
  {
   "cell_type": "code",
   "execution_count": 5,
   "metadata": {},
   "outputs": [],
   "source": [
    "from langchain_community.document_loaders import PyMuPDFLoader\n",
    "\n",
    "file_path = \"./data/gym/1_Analysis_of_Actual_Fitness_Supplement.pdf\"\n",
    "loader = PyMuPDFLoader(file_path)\n",
    "\n",
    "docs = loader.load()"
   ]
  },
  {
   "cell_type": "code",
   "execution_count": null,
   "metadata": {},
   "outputs": [],
   "source": [
    "doc = docs[0]\n",
    "# print(doc.page_content)"
   ]
  },
  {
   "cell_type": "code",
   "execution_count": 14,
   "metadata": {},
   "outputs": [],
   "source": [
    "import os\n",
    "\n",
    "pdfs = []\n",
    "for root, dirs, files in os.walk('data'):\n",
    "    # print(root, dirs, files)\n",
    "    for file in files:\n",
    "        if file.endswith('.pdf'):\n",
    "            pdfs.append(os.path.join(root, file))"
   ]
  },
  {
   "cell_type": "code",
   "execution_count": 16,
   "metadata": {},
   "outputs": [],
   "source": [
    "docs = []\n",
    "for pdf in pdfs:\n",
    "    loader = PyMuPDFLoader(pdf)\n",
    "    pages = loader.load()\n",
    "\n",
    "    docs.extend(pages)\n"
   ]
  },
  {
   "cell_type": "markdown",
   "metadata": {},
   "source": [
    "### Document Chunking"
   ]
  },
  {
   "cell_type": "code",
   "execution_count": 18,
   "metadata": {},
   "outputs": [],
   "source": [
    "from langchain_text_splitters import RecursiveCharacterTextSplitter\n",
    "\n",
    "text_splitter = RecursiveCharacterTextSplitter(\n",
    "    chunk_size=1000,\n",
    "    chunk_overlap=100,\n",
    ")\n",
    "\n",
    "chunks = text_splitter.split_documents(docs)"
   ]
  },
  {
   "cell_type": "code",
   "execution_count": 20,
   "metadata": {},
   "outputs": [
    {
     "data": {
      "text/plain": [
       "(32, 152)"
      ]
     },
     "execution_count": 20,
     "metadata": {},
     "output_type": "execute_result"
    }
   ],
   "source": [
    "len(docs), len(chunks)"
   ]
  },
  {
   "cell_type": "code",
   "execution_count": 22,
   "metadata": {},
   "outputs": [
    {
     "name": "stdout",
     "output_type": "stream",
     "text": [
      "International  Journal  of\n",
      "Environmental Research\n",
      "and Public Health\n",
      "Review\n",
      "Dietary Supplements—For Whom? The Current State of\n",
      "Knowledge about the Health Effects of Selected\n",
      "Supplement Use\n",
      "Regina Ewa Wierzejska\n",
      "\u0001\u0002\u0003\u0001\u0004\u0005\u0006\n",
      "\u0001\u0002\u0003\u0004\u0005\u0006\u0007\n",
      "Citation: Wierzejska, R.E. Dietary\n",
      "Supplements—For Whom? The\n",
      "Current State of Knowledge about the\n",
      "Health Effects of Selected Supplement\n",
      "Use. Int. J. Environ. Res. Public Health\n",
      "2021, 18, 8897. https://doi.org/\n",
      "10.3390/ijerph18178897\n",
      "Academic Editor: Paul B. Tchounwou\n",
      "Received: 15 July 2021\n",
      "Accepted: 21 August 2021\n",
      "Published: 24 August 2021\n",
      "Publisher’s Note: MDPI stays neutral\n",
      "with regard to jurisdictional claims in\n",
      "published maps and institutional afﬁl-\n",
      "iations.\n",
      "Copyright: © 2021 by the author.\n",
      "Licensee MDPI, Basel, Switzerland.\n",
      "This article is an open access article\n",
      "distributed\n",
      "under\n",
      "the\n",
      "terms\n",
      "and\n",
      "conditions of the Creative Commons\n",
      "Attribution (CC BY) license (https://\n",
      "creativecommons.org/licenses/by/\n",
      "4.0/).\n",
      "Department of Nutrition and Nutritional Value of Food, National Institute of Public Health NIH—National\n",
      "Research Institute, Chocimska St. 24, 00-791 Warsaw, Poland; rwierzejska@pzh.gov.pl\n",
      "Abstract: Dietary supplements are products containing nutrients sold in various medicinal forms,\n",
      "and their widespread use may stem from the conviction that a preparation that looks like a drug\n",
      "must have therapeutic properties. The aim of this scoping review is to present what is known\n",
      "about the effects of using selected dietary supplements in the context of chronic diseases, as well\n",
      "as the risks associated with their use. The literature shows that the taking of vitamin and mineral\n",
      "supplements by healthy people neither lowers their risk of cardiovascular diseases nor prevents\n",
      "the development of malignancies. Many scientiﬁc societies recognize that omega-3 fatty acids\n",
      "lower blood triglycerides, but whether taking them prevents heart disease is less clear-cut. Taking\n",
      "weight loss supplements is not an effective method of ﬁghting obesity. Often, some supplements\n",
      "are increasingly sold illegally, which is then also associated with the higher risk that they may\n",
      "be adulterated with banned substances, thus making them even more dangerous and potentially\n",
      "life-threatening. Supplements are necessary in cases of nutrient deﬁciency; however, even though\n",
      "prescription is not required, their use should be recommended and monitored by a physician.\n",
      "Keywords: dietary supplements; legal regulations; health; safety\n",
      "1. Introduction\n",
      "In accordance with the European Union law, as well as the United States law, dietary\n",
      "supplements mean products that are concentrated sources of vitamins, minerals, or other\n",
      "substances with a nutritional or physiological effect (e.g., amino acids, essential fatty acids,\n",
      "probiotics, plants, and herbal extracts) intended to supplement the regular diet. Dietary\n",
      "supplements are produced in the form of capsules, tablets, pills, and other similar forms,\n",
      "designed to be taken in measured small unit quantities [1,2]. Dietary supplements, despite\n",
      "their route of administration and drug-like appearance, have been classiﬁed as foodstuffs\n",
      "and not medicines. Thus, in formal terms, supplement users are consumers rather than\n",
      "patients, but the question remains whether it is sick or healthy individuals who should\n",
      "be the primary users. The market for dietary supplements continues to expand at a rapid\n",
      "pace, and manufacturers develop products for health problems affecting almost all organs\n",
      "of the body, as well as for non-existing conditions, e.g., supplements for bladder elasticity.\n",
      "Additionally, a growing awareness among the public about the role of nutrition in the\n",
      "maintenance of health, together with widespread beliefs about today’s food being poor in\n",
      "vitamins (e.g., due to impoverished soil), are among the reasons for dietary supplement\n",
      "use becoming common practice or even the norm.\n",
      "Skyrocketing sales of supplements in times of the widespread accessibility and over-\n",
      "consumption of a wide range of foods may be described as the “supplement use phe-\n",
      "nomenon”. In the US, over 50% of adults declare supplement use, and in some studies\n",
      "almost 40% had taken dietary supplements during the previous 30 days when they were\n",
      "questioned [3,4]. In Poland, supplement use has been reported by 30–78% of adolescents\n",
      "and adults [5–7] and by approximately 40% of children [8]. Only one-quarter of supplement\n",
      "Int. J. Environ. Res. Public Health 2021, 18, 8897. https://doi.org/10.3390/ijerph18178897\n",
      "https://www.mdpi.com/journal/ijerph\n"
     ]
    }
   ],
   "source": [
    "print(docs[0].page_content)"
   ]
  },
  {
   "cell_type": "code",
   "execution_count": 23,
   "metadata": {},
   "outputs": [
    {
     "name": "stdout",
     "output_type": "stream",
     "text": [
      "International  Journal  of\n",
      "Environmental Research\n",
      "and Public Health\n",
      "Review\n",
      "Dietary Supplements—For Whom? The Current State of\n",
      "Knowledge about the Health Effects of Selected\n",
      "Supplement Use\n",
      "Regina Ewa Wierzejska\n",
      "\u0001\u0002\u0003\u0001\u0004\u0005\u0006\n",
      "\u0001\u0002\u0003\u0004\u0005\u0006\u0007\n",
      "Citation: Wierzejska, R.E. Dietary\n",
      "Supplements—For Whom? The\n",
      "Current State of Knowledge about the\n",
      "Health Effects of Selected Supplement\n",
      "Use. Int. J. Environ. Res. Public Health\n",
      "2021, 18, 8897. https://doi.org/\n",
      "10.3390/ijerph18178897\n",
      "Academic Editor: Paul B. Tchounwou\n",
      "Received: 15 July 2021\n",
      "Accepted: 21 August 2021\n",
      "Published: 24 August 2021\n",
      "Publisher’s Note: MDPI stays neutral\n",
      "with regard to jurisdictional claims in\n",
      "published maps and institutional afﬁl-\n",
      "iations.\n",
      "Copyright: © 2021 by the author.\n",
      "Licensee MDPI, Basel, Switzerland.\n",
      "This article is an open access article\n",
      "distributed\n",
      "under\n",
      "the\n",
      "terms\n",
      "and\n",
      "conditions of the Creative Commons\n",
      "Attribution (CC BY) license (https://\n",
      "creativecommons.org/licenses/by/\n",
      "4.0/).\n"
     ]
    }
   ],
   "source": [
    "print(chunks[0].page_content)"
   ]
  },
  {
   "cell_type": "code",
   "execution_count": null,
   "metadata": {},
   "outputs": [],
   "source": []
  }
 ],
 "metadata": {
  "kernelspec": {
   "display_name": "Python (ragampdf)",
   "language": "python",
   "name": "ragampdf"
  },
  "language_info": {
   "codemirror_mode": {
    "name": "ipython",
    "version": 3
   },
   "file_extension": ".py",
   "mimetype": "text/x-python",
   "name": "python",
   "nbconvert_exporter": "python",
   "pygments_lexer": "ipython3",
   "version": "3.11.8"
  }
 },
 "nbformat": 4,
 "nbformat_minor": 2
}
